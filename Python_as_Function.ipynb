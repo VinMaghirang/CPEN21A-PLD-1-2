{
  "nbformat": 4,
  "nbformat_minor": 0,
  "metadata": {
    "colab": {
      "provenance": [],
      "authorship_tag": "ABX9TyM96IdX2blJOdNM7nH+mdEE",
      "include_colab_link": true
    },
    "kernelspec": {
      "name": "python3",
      "display_name": "Python 3"
    },
    "language_info": {
      "name": "python"
    }
  },
  "cells": [
    {
      "cell_type": "markdown",
      "metadata": {
        "id": "view-in-github",
        "colab_type": "text"
      },
      "source": [
        "<a href=\"https://colab.research.google.com/github/VinMaghirang/CPEN21A-PLD-1-2/blob/main/Python_as_Function.ipynb\" target=\"_parent\"><img src=\"https://colab.research.google.com/assets/colab-badge.svg\" alt=\"Open In Colab\"/></a>"
      ]
    },
    {
      "cell_type": "code",
      "execution_count": null,
      "metadata": {
        "id": "gNVIqv0XowAo"
      },
      "outputs": [],
      "source": [
        "#Function Calls\n",
        "\n",
        "abs(-4.5)"
      ]
    },
    {
      "cell_type": "code",
      "source": [
        "#Function Calls other function\n",
        "\n",
        "pow(abs(-2), round(4.5))  #pow(2,4)"
      ],
      "metadata": {
        "colab": {
          "base_uri": "https://localhost:8080/"
        },
        "id": "ctcinz-qjUHV",
        "outputId": "f241a5cb-513b-4462-ac13-9dea2765d580"
      },
      "execution_count": 2,
      "outputs": [
        {
          "output_type": "execute_result",
          "data": {
            "text/plain": [
              "16"
            ]
          },
          "metadata": {},
          "execution_count": 2
        }
      ]
    },
    {
      "cell_type": "code",
      "source": [
        "#Type Functions\n",
        "\n",
        "int(4.5)\n",
        "float(4)"
      ],
      "metadata": {
        "id": "nDDQh-Ruo36M"
      },
      "execution_count": null,
      "outputs": []
    },
    {
      "cell_type": "code",
      "source": [
        "#Defining own Function\n",
        "\n",
        "def convert_to_celsius(celsius):\n",
        "  celsius = (fahrenheit-32)*5/9\n",
        "  return celsius\n",
        "\n",
        "fahrenheit = float(input(\"Enter a number in fahrenheit: \"))\n",
        "\n",
        "f=convert_to_celsius(fahrenheit)\n",
        "print(round(f,2))\n"
      ],
      "metadata": {
        "colab": {
          "base_uri": "https://localhost:8080/"
        },
        "id": "6MxhDs9Fo49r",
        "outputId": "ba5a84b6-071d-47fa-9121-ad0c68bb46b1"
      },
      "execution_count": 4,
      "outputs": [
        {
          "output_type": "stream",
          "name": "stdout",
          "text": [
            "Enter a number in fahrenheit: 100\n",
            "37.78\n"
          ]
        }
      ]
    },
    {
      "cell_type": "markdown",
      "source": [
        "##Exercises"
      ],
      "metadata": {
        "id": "tmydH2VJv9es"
      }
    },
    {
      "cell_type": "code",
      "source": [
        "#a \n",
        "min(2, 3, 4)"
      ],
      "metadata": {
        "colab": {
          "base_uri": "https://localhost:8080/"
        },
        "id": "U3w-D1JAwFEp",
        "outputId": "188079ee-e2fa-4f9c-cc0f-5064fe56cb3c"
      },
      "execution_count": null,
      "outputs": [
        {
          "output_type": "execute_result",
          "data": {
            "text/plain": [
              "2"
            ]
          },
          "metadata": {},
          "execution_count": 24
        }
      ]
    },
    {
      "cell_type": "code",
      "source": [
        "#b\n",
        "max(2, -3, 4, 7, -5)\n"
      ],
      "metadata": {
        "colab": {
          "base_uri": "https://localhost:8080/"
        },
        "id": "fNSeijNzwvUu",
        "outputId": "252d5f3c-d461-4aa7-f2d3-3c0d313674c3"
      },
      "execution_count": null,
      "outputs": [
        {
          "output_type": "execute_result",
          "data": {
            "text/plain": [
              "7"
            ]
          },
          "metadata": {},
          "execution_count": 25
        }
      ]
    },
    {
      "cell_type": "code",
      "source": [
        "#c\n",
        "max(2, -3, min(4,7),-5)"
      ],
      "metadata": {
        "colab": {
          "base_uri": "https://localhost:8080/"
        },
        "id": "b4oTuDBiw6fm",
        "outputId": "e1b31140-9653-4117-bdee-c043b45630f1"
      },
      "execution_count": null,
      "outputs": [
        {
          "output_type": "execute_result",
          "data": {
            "text/plain": [
              "4"
            ]
          },
          "metadata": {},
          "execution_count": 26
        }
      ]
    }
  ]
}