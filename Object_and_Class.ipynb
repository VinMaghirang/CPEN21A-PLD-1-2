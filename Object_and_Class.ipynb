{
  "nbformat": 4,
  "nbformat_minor": 0,
  "metadata": {
    "colab": {
      "provenance": [],
      "authorship_tag": "ABX9TyP1vSK5gj0yTX0aO9IdXGzx",
      "include_colab_link": true
    },
    "kernelspec": {
      "name": "python3",
      "display_name": "Python 3"
    },
    "language_info": {
      "name": "python"
    }
  },
  "cells": [
    {
      "cell_type": "markdown",
      "metadata": {
        "id": "view-in-github",
        "colab_type": "text"
      },
      "source": [
        "<a href=\"https://colab.research.google.com/github/VinMaghirang/CPEN21A-PLD-1-2/blob/main/Object_and_Class.ipynb\" target=\"_parent\"><img src=\"https://colab.research.google.com/assets/colab-badge.svg\" alt=\"Open In Colab\"/></a>"
      ]
    },
    {
      "cell_type": "code",
      "execution_count": null,
      "metadata": {
        "colab": {
          "base_uri": "https://localhost:8080/"
        },
        "id": "mPD5txbmGa5l",
        "outputId": "2359c984-bff9-48b1-93d4-332c5fb58a72"
      },
      "outputs": [
        {
          "output_type": "stream",
          "name": "stdout",
          "text": [
            "My personal info are all here\n"
          ]
        }
      ],
      "source": [
        "class Person:\n",
        "  def __init__(self,name,age,birthdate):       #object and class constructor\n",
        "    self.name = name\n",
        "    self.age = age\n",
        "    self.birthdate = birthdate\n",
        "\n",
        "  def info(self):                 \n",
        "    return \"My personal info are all here\"      #method constructor\n",
        "\n",
        "class Student(Person):                          #inheritance\n",
        "  pass\n",
        "\n",
        "person = Student(\"Ana\", 28,\"January 4, 1996\")     #naming object\n",
        "\n",
        "print(person.info())\n"
      ]
    },
    {
      "cell_type": "markdown",
      "source": [
        "#Exercise 1\n",
        " \n",
        "### Write a program that:\n",
        "###Use Shape as parent class, Rectangle as child class with length and width attributes\n",
        "###Use Perimeter() and Area() as methods to compute for the perimeter and area of the rectangle \n"
      ],
      "metadata": {
        "id": "itgBIrwpHB9t"
      }
    },
    {
      "cell_type": "code",
      "source": [
        "class Shape:\n",
        "  def __init__(self,length,width):\n",
        "      self.length = length\n",
        "      self.width = width\n",
        "\n",
        "class Rectangle(Shape):\n",
        "  pass\n",
        "\n",
        "Rectangle = Rectangle(2,4)\n",
        "\n",
        "print(\"Length of the Rectangle is\", Rectangle.length) \n",
        "print(\"Width of the Rectangle is\", Rectangle.width)  \n"
      ],
      "metadata": {
        "colab": {
          "base_uri": "https://localhost:8080/"
        },
        "id": "wbs80nq4KeIL",
        "outputId": "ac0a44a9-74d5-49a4-a7fa-9ed3e4185a2c"
      },
      "execution_count": null,
      "outputs": [
        {
          "output_type": "stream",
          "name": "stdout",
          "text": [
            "Length of the Rectangle is 2\n",
            "Width of the Rectangle is 4\n"
          ]
        }
      ]
    },
    {
      "cell_type": "code",
      "source": [
        "class Shape:\n",
        "    def __init__(self, length, width):\n",
        "        self.length = length\n",
        "        self.width = width\n",
        "\n",
        "    def Perimeter(self):\n",
        "        return 2 * (self.length + self.width)\n",
        "\n",
        "    def Area(self):\n",
        "        return self.length * self.width\n",
        "\n",
        "class Rectangle (Shape):\n",
        "  pass\n",
        "\n",
        "rectangle = Rectangle(6, 12)\n",
        "print(\"Perimeter of the rectangle is\", rectangle.Perimeter())  \n",
        "print(\"Area of the rectangle is\", rectangle.Area())  \n"
      ],
      "metadata": {
        "colab": {
          "base_uri": "https://localhost:8080/"
        },
        "id": "nzM1QDLdMEE2",
        "outputId": "3dee2082-51cc-4510-e9b1-dfc01b07575d"
      },
      "execution_count": null,
      "outputs": [
        {
          "output_type": "stream",
          "name": "stdout",
          "text": [
            "Perimeter of the rectangle is 36\n",
            "Area of the rectangle is 72\n"
          ]
        }
      ]
    }
  ]
}