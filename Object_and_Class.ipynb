{
  "nbformat": 4,
  "nbformat_minor": 0,
  "metadata": {
    "colab": {
      "provenance": [],
      "authorship_tag": "ABX9TyMC+dWPgTHLr7MQyW8upeLN",
      "include_colab_link": true
    },
    "kernelspec": {
      "name": "python3",
      "display_name": "Python 3"
    },
    "language_info": {
      "name": "python"
    }
  },
  "cells": [
    {
      "cell_type": "markdown",
      "metadata": {
        "id": "view-in-github",
        "colab_type": "text"
      },
      "source": [
        "<a href=\"https://colab.research.google.com/github/VinMaghirang/CPEN21A-PLD-1-2/blob/main/Object_and_Class.ipynb\" target=\"_parent\"><img src=\"https://colab.research.google.com/assets/colab-badge.svg\" alt=\"Open In Colab\"/></a>"
      ]
    },
    {
      "cell_type": "code",
      "execution_count": null,
      "metadata": {
        "colab": {
          "base_uri": "https://localhost:8080/"
        },
        "id": "mPD5txbmGa5l",
        "outputId": "e868f01b-14d5-4fde-d811-b3c48ec5dfbf"
      },
      "outputs": [
        {
          "output_type": "stream",
          "name": "stdout",
          "text": [
            "My personal info are all here\n"
          ]
        }
      ],
      "source": [
        "class Person:\n",
        "  def __init__(self,name,age,birthdate):       #object and class constructor\n",
        "    self.name = name\n",
        "    self.age = age\n",
        "    self.birthdate = birthdate\n",
        "\n",
        "  def info(self):                 \n",
        "    return \"My personal info are all here\"      #method constructor\n",
        "\n",
        "class Student(Person):                          #inheritance\n",
        "  pass\n",
        "\n",
        "person = Student(\"Ana\", 28,\"January 4, 1996\")     #naming object\n",
        "\n",
        "print(person.info())\n",
        "\n",
        "  "
      ]
    },
    {
      "cell_type": "markdown",
      "source": [
        "#Exercise 1\n",
        " \n",
        "### Write a program that:\n",
        "###Use Shape as parent class, Rectangle as child class with length and width attributes\n",
        "###Use Perimeter() and Area() as methods to compute for the perimeter and area of the rectangle \n"
      ],
      "metadata": {
        "id": "itgBIrwpHB9t"
      }
    },
    {
      "cell_type": "code",
      "source": [
        "class Shape:\n",
        "  def __init__(self):\n",
        "      self.name = \"Shape\"\n",
        "\n",
        "class Rectangle(Shape):\n",
        "    def __init__(self, length, width):\n",
        "        super().__init__()\n",
        "        self.name = \"Rectangle\"\n",
        "        self.length = length\n",
        "        self.width = width\n",
        "\n",
        "rectangle = Rectangle(5, 10)\n",
        "print(rectangle.name) \n",
        "print(rectangle.length) \n",
        "print(rectangle.width)  \n"
      ],
      "metadata": {
        "colab": {
          "base_uri": "https://localhost:8080/"
        },
        "id": "wbs80nq4KeIL",
        "outputId": "d49cc029-0a0f-4bbc-b9bf-1891c64d6569"
      },
      "execution_count": 3,
      "outputs": [
        {
          "output_type": "stream",
          "name": "stdout",
          "text": [
            "Rectangle\n",
            "5\n",
            "10\n"
          ]
        }
      ]
    },
    {
      "cell_type": "code",
      "source": [
        "class Rectangle:\n",
        "    def __init__(self, length, width):\n",
        "        self.length = length\n",
        "        self.width = width\n",
        "\n",
        "    def perimeter(self):\n",
        "        return 2 * (self.length + self.width)\n",
        "\n",
        "    def area(self):\n",
        "        return self.length * self.width\n",
        "\n",
        "rectangle = Rectangle(5, 10)\n",
        "print(rectangle.perimeter())  \n",
        "print(rectangle.area())  \n"
      ],
      "metadata": {
        "colab": {
          "base_uri": "https://localhost:8080/"
        },
        "id": "nzM1QDLdMEE2",
        "outputId": "703e6e39-9a38-4149-b4d0-c9fe98f51523"
      },
      "execution_count": 4,
      "outputs": [
        {
          "output_type": "stream",
          "name": "stdout",
          "text": [
            "30\n",
            "50\n"
          ]
        }
      ]
    }
  ]
}