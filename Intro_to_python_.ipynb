{
  "nbformat": 4,
  "nbformat_minor": 0,
  "metadata": {
    "colab": {
      "provenance": [],
      "authorship_tag": "ABX9TyM8g8hj00Qqc1vCIH68rsYI",
      "include_colab_link": true
    },
    "kernelspec": {
      "name": "python3",
      "display_name": "Python 3"
    },
    "language_info": {
      "name": "python"
    }
  },
  "cells": [
    {
      "cell_type": "markdown",
      "metadata": {
        "id": "view-in-github",
        "colab_type": "text"
      },
      "source": [
        "<a href=\"https://colab.research.google.com/github/VinMaghirang/CPEN21A-PLD-1-2/blob/main/Intro_to_python_.ipynb\" target=\"_parent\"><img src=\"https://colab.research.google.com/assets/colab-badge.svg\" alt=\"Open In Colab\"/></a>"
      ]
    },
    {
      "cell_type": "markdown",
      "source": [
        "#Indentation"
      ],
      "metadata": {
        "id": "ty0RkhtMUDWH"
      }
    },
    {
      "cell_type": "code",
      "source": [
        "if 5>3:\n",
        "  print (\"5 is greater that 3\")  #This is a comment"
      ],
      "metadata": {
        "colab": {
          "base_uri": "https://localhost:8080/"
        },
        "id": "tT6BuYK-ULXW",
        "outputId": "45dcd017-7222-4dbf-8aa3-40db4d74b5a2"
      },
      "execution_count": 6,
      "outputs": [
        {
          "output_type": "stream",
          "name": "stdout",
          "text": [
            "5 is greater that 3\n"
          ]
        }
      ]
    },
    {
      "cell_type": "markdown",
      "source": [
        "##Variable Declaration"
      ],
      "metadata": {
        "id": "jMafWM53VCAm"
      }
    },
    {
      "cell_type": "code",
      "source": [
        "#variable with a single value\n",
        "x=5\n",
        "y=3\n",
        "if x<y:\n",
        "  print (\"x is greater than y\")\n",
        "else:\n",
        "  print (\"y is greater than x\")\n",
        "\n",
        "\n",
        "#variable with multiple values\n",
        "\n",
        "a,b = 1,2\n",
        "print (\"The value of a is:\",a)\n",
        "print (\"The value of b is:\",b)\n",
        "\n",
        "#multiple variables with a single value\n",
        "\n",
        "p=q=r= 'Cute'\n",
        "print(p)\n",
        "print(q)\n",
        "print(r)"
      ],
      "metadata": {
        "colab": {
          "base_uri": "https://localhost:8080/"
        },
        "id": "QEbllQAfVHb1",
        "outputId": "99402278-996a-414e-ea69-8b23c710e331"
      },
      "execution_count": 28,
      "outputs": [
        {
          "output_type": "stream",
          "name": "stdout",
          "text": [
            "y is greater than x\n",
            "The value of a is: 1\n",
            "The value of b is: 2\n",
            "Cute\n",
            "Cute\n",
            "Cute\n"
          ]
        }
      ]
    },
    {
      "cell_type": "markdown",
      "source": [
        "###Output Variable"
      ],
      "metadata": {
        "id": "ArQQNs-dZm8H"
      }
    },
    {
      "cell_type": "code",
      "source": [
        "o = 'is enjoying'\n",
        "print(\"python programming\"+\" \"+o)   #append is enjoying"
      ],
      "metadata": {
        "id": "0gI3q56jZsDP",
        "outputId": "d63c13ac-65a9-492c-e191-e138b89892cd",
        "colab": {
          "base_uri": "https://localhost:8080/"
        }
      },
      "execution_count": 29,
      "outputs": [
        {
          "output_type": "stream",
          "name": "stdout",
          "text": [
            "python programming is enjoying\n"
          ]
        }
      ]
    },
    {
      "cell_type": "markdown",
      "source": [
        "#Casting and Type() Function\n"
      ],
      "metadata": {
        "id": "EkNAmLuyWuSX"
      }
    },
    {
      "cell_type": "code",
      "source": [
        "f = int(4)   #integer\n",
        "g=float(4)   #decimal/functional\n",
        "\n",
        "print(f)\n",
        "print(g)\n",
        "\n",
        "print(type(f))\n",
        "print(type(g))\n"
      ],
      "metadata": {
        "colab": {
          "base_uri": "https://localhost:8080/"
        },
        "id": "KuCfMgkJW0-A",
        "outputId": "1b0079e5-98a8-4eb3-dfb3-773821a25c16"
      },
      "execution_count": 16,
      "outputs": [
        {
          "output_type": "stream",
          "name": "stdout",
          "text": [
            "4\n",
            "4.0\n",
            "<class 'int'>\n",
            "<class 'float'>\n"
          ]
        }
      ]
    },
    {
      "cell_type": "markdown",
      "source": [
        "#Double qoute or single qoute\n"
      ],
      "metadata": {
        "id": "No01C3ikXeKH"
      }
    },
    {
      "cell_type": "code",
      "source": [
        "name = \"Vin\"\n",
        "name1 = 'Ellaine'\n",
        "name2 = 'Maghirang'\n",
        "\n",
        "print(name)\n",
        "print(name1)\n",
        "print(name2)"
      ],
      "metadata": {
        "colab": {
          "base_uri": "https://localhost:8080/"
        },
        "id": "2SMf_8EAXk05",
        "outputId": "3b429475-a9d1-4119-f174-4ad4adc5904c"
      },
      "execution_count": 20,
      "outputs": [
        {
          "output_type": "stream",
          "name": "stdout",
          "text": [
            "Vin\n",
            "Ellaine\n",
            "Maghirang\n"
          ]
        }
      ]
    },
    {
      "cell_type": "markdown",
      "source": [
        "#Case Sensitive"
      ],
      "metadata": {
        "id": "SJHSCbdgYBdp"
      }
    },
    {
      "cell_type": "code",
      "source": [
        "a = 'Ana'\n",
        "print(a)"
      ],
      "metadata": {
        "id": "MKaRgmt4YFwq"
      },
      "execution_count": null,
      "outputs": []
    }
  ]
}