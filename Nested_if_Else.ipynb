{
  "nbformat": 4,
  "nbformat_minor": 0,
  "metadata": {
    "colab": {
      "provenance": [],
      "authorship_tag": "ABX9TyNPNSp4Nd5aAWYwORk3GLET",
      "include_colab_link": true
    },
    "kernelspec": {
      "name": "python3",
      "display_name": "Python 3"
    },
    "language_info": {
      "name": "python"
    }
  },
  "cells": [
    {
      "cell_type": "markdown",
      "metadata": {
        "id": "view-in-github",
        "colab_type": "text"
      },
      "source": [
        "<a href=\"https://colab.research.google.com/github/VinMaghirang/CPEN21A-PLD-1-2/blob/main/Nested_if_Else.ipynb\" target=\"_parent\"><img src=\"https://colab.research.google.com/assets/colab-badge.svg\" alt=\"Open In Colab\"/></a>"
      ]
    },
    {
      "cell_type": "markdown",
      "source": [
        "###Nested if Else"
      ],
      "metadata": {
        "id": "git0sVTg5yrr"
      }
    },
    {
      "cell_type": "code",
      "source": [
        "x = 41\n",
        "if x>10:\n",
        "  print(\"above ten\")\n",
        "  if x>20:\n",
        "    print(\"above twenty\")\n",
        "  else:\n",
        "    print(\"below twenty\")\n",
        "    if x>30:\n",
        "      print(\"above thirty\")\n",
        "    else:\n",
        "      print(\"below thirty\")\n",
        "      if x>40:\n",
        "        print(\"above forty\")\n",
        "      else:\n",
        "        print(\"below forty\")\n",
        "        if x>50:\n",
        "          print(\"above fifty\")\n",
        "        else:\n",
        "          print(\"below fifty\")  "
      ],
      "metadata": {
        "colab": {
          "base_uri": "https://localhost:8080/"
        },
        "id": "b-0IfTfN56yV",
        "outputId": "83c81fda-17d6-432e-d1ed-b204a8c27224"
      },
      "execution_count": 1,
      "outputs": [
        {
          "output_type": "stream",
          "name": "stdout",
          "text": [
            "above ten\n",
            "above twenty\n"
          ]
        }
      ]
    },
    {
      "cell_type": "code",
      "source": [
        "x = 41\n",
        "if x>10:\n",
        "  print(\"above ten\")\n",
        "elif x>20:\n",
        "  print(\"above twenty\")\n",
        "elif x>30:\n",
        "  print(\"above thirty\")\n",
        "elif x>40:\n",
        "  print(\"above forty\")\n",
        "else:\n",
        "  print(\"not above 50\")"
      ],
      "metadata": {
        "colab": {
          "base_uri": "https://localhost:8080/"
        },
        "id": "jH5rE1Iq7a_C",
        "outputId": "5cd918f0-81df-4794-dbb6-7a994aaea225"
      },
      "execution_count": 2,
      "outputs": [
        {
          "output_type": "stream",
          "name": "stdout",
          "text": [
            "above ten\n"
          ]
        }
      ]
    },
    {
      "cell_type": "code",
      "source": [
        "print(\"Enter a number:\")\n",
        "x = int(input())\n",
        "if x>10:\n",
        "  print(\"above 10\")\n",
        "  if x<20:\n",
        "    print(\"below 20\")\n",
        "  else:\n",
        "    print(\"above 20\")\n",
        "    if x<30:\n",
        "      print(\"below 30\")\n",
        "    else:\n",
        "      print(\"above 30\")\n",
        "      if x<40:\n",
        "        print(\"below 40\")\n",
        "      else:\n",
        "        print(\"above 40\")\n",
        "        if x<50:\n",
        "          print(\"below 50\")\n",
        "        else:\n",
        "          print(\"above 50\")"
      ],
      "metadata": {
        "colab": {
          "base_uri": "https://localhost:8080/"
        },
        "id": "h2fKxOlN7dPb",
        "outputId": "cfc7d398-e4ba-4866-934f-b4ceef572d81"
      },
      "execution_count": 10,
      "outputs": [
        {
          "output_type": "stream",
          "name": "stdout",
          "text": [
            "Enter a number:\n",
            "11\n",
            "above 10\n",
            "below 20\n"
          ]
        }
      ]
    },
    {
      "cell_type": "markdown",
      "source": [
        "#Example 1"
      ],
      "metadata": {
        "id": "5CNHEzHD7t97"
      }
    },
    {
      "cell_type": "code",
      "source": [
        "print(\"Enter your age\")\n",
        "x = int(input())\n",
        "if x>=18:\n",
        "  print(\"Qualified to vote\")\n",
        "else: print(\"Not Qualified to vote\")"
      ],
      "metadata": {
        "id": "UBB0MilR7xKx"
      },
      "execution_count": null,
      "outputs": []
    },
    {
      "cell_type": "markdown",
      "source": [
        "#Example 2"
      ],
      "metadata": {
        "id": "pVXgCLVm7xch"
      }
    },
    {
      "cell_type": "code",
      "source": [
        "print(\"Enter a number\")\n",
        "x = int(input())\n",
        "if x <= -1:\n",
        "  print (\"negative\")\n",
        "elif x >= 0:\n",
        "  print (\"positive\")\n",
        "\n"
      ],
      "metadata": {
        "id": "z-m-2XZx7zip"
      },
      "execution_count": null,
      "outputs": []
    },
    {
      "cell_type": "markdown",
      "source": [
        "#Example 3"
      ],
      "metadata": {
        "id": "aEgxEW6O7z_L"
      }
    },
    {
      "cell_type": "code",
      "source": [
        "print (\"Enter grade\")\n",
        "x = int(input())\n",
        "if x>=75:\n",
        "  print(\"Passed\")\n",
        "elif x == 74:\n",
        "  print (\"Remedial\")\n",
        "if x < 74:\n",
        "  print(\"Failed\")\n",
        "\n",
        "if x<= -1:\n",
        "  print (\"Not Accepted\")\n"
      ],
      "metadata": {
        "colab": {
          "base_uri": "https://localhost:8080/"
        },
        "id": "eKcudtWl72pL",
        "outputId": "f8397208-05e2-4fdd-e85b-43c48b8c0ee8"
      },
      "execution_count": 81,
      "outputs": [
        {
          "output_type": "stream",
          "name": "stdout",
          "text": [
            "Enter grade\n",
            "85\n",
            "Passed\n"
          ]
        }
      ]
    }
  ]
}