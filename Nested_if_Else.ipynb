{
  "nbformat": 4,
  "nbformat_minor": 0,
  "metadata": {
    "colab": {
      "provenance": [],
      "authorship_tag": "ABX9TyOusXLlDXBn0p0FvHNA7C6r",
      "include_colab_link": true
    },
    "kernelspec": {
      "name": "python3",
      "display_name": "Python 3"
    },
    "language_info": {
      "name": "python"
    }
  },
  "cells": [
    {
      "cell_type": "markdown",
      "metadata": {
        "id": "view-in-github",
        "colab_type": "text"
      },
      "source": [
        "<a href=\"https://colab.research.google.com/github/VinMaghirang/CPEN21A-PLD-1-2/blob/main/Nested_if_Else.ipynb\" target=\"_parent\"><img src=\"https://colab.research.google.com/assets/colab-badge.svg\" alt=\"Open In Colab\"/></a>"
      ]
    },
    {
      "cell_type": "markdown",
      "source": [
        "###Nested if Else"
      ],
      "metadata": {
        "id": "git0sVTg5yrr"
      }
    },
    {
      "cell_type": "code",
      "source": [
        "x = 41\n",
        "if x>10:\n",
        "  print(\"above ten\")\n",
        "  if x>20:\n",
        "    print(\"above twenty\")\n",
        "  else:\n",
        "    print(\"below twenty\")\n",
        "if x>30:\n",
        "   print(\"above thirty\")\n",
        "else:\n",
        "   print(\"below thirty\")\n",
        "if x>40:\n",
        " print(\"above forty\")\n",
        "else:\n",
        "  print(\"below forty\")\n",
        "if x>50:\n",
        "  print(\"above fifty\")\n",
        "else:\n",
        "  print(\"below fifty\")  "
      ],
      "metadata": {
        "colab": {
          "base_uri": "https://localhost:8080/"
        },
        "id": "b-0IfTfN56yV",
        "outputId": "0d50a5b3-1183-4f5c-d8de-d73e7474567a"
      },
      "execution_count": 8,
      "outputs": [
        {
          "output_type": "stream",
          "name": "stdout",
          "text": [
            "above ten\n",
            "above twenty\n",
            "above thirty\n",
            "above forty\n",
            "below fifty\n"
          ]
        }
      ]
    },
    {
      "cell_type": "code",
      "source": [
        "x = 41\n",
        "if x>10:\n",
        "  print(\"above ten\")\n",
        "if x>20:\n",
        "  print(\"above twenty\")\n",
        "if x>30:\n",
        "  print(\"above thirty\")\n",
        "if x>40:\n",
        "  print(\"above forty\")\n",
        "elif x<40: \n",
        "   print(\"below forty\")\n",
        "if x>=50:\n",
        "   print(\"above 50\")\n",
        "else:\n",
        "   print (\"not above 50\")"
      ],
      "metadata": {
        "colab": {
          "base_uri": "https://localhost:8080/"
        },
        "id": "jH5rE1Iq7a_C",
        "outputId": "e906874f-49fe-4dbc-c33b-d927299d18ba"
      },
      "execution_count": 26,
      "outputs": [
        {
          "output_type": "stream",
          "name": "stdout",
          "text": [
            "above ten\n",
            "above twenty\n",
            "above thirty\n",
            "above forty\n",
            "above 50\n"
          ]
        }
      ]
    },
    {
      "cell_type": "code",
      "source": [
        "print(\"Enter a number:\")\n",
        "x = int(input())\n",
        "if x>10:\n",
        "  print(\"above 10\")\n",
        "  if x<20:\n",
        "    print(\"below 20\")\n",
        "  else:\n",
        "    print(\"above 20\")\n",
        "    if x<30:\n",
        "      print(\"below 30\")\n",
        "    else:\n",
        "      print(\"above 30\")\n",
        "      if x<40:\n",
        "        print(\"below 40\")\n",
        "      else:\n",
        "        print(\"above 40\")\n",
        "        if x<50:\n",
        "          print(\"below 50\")\n",
        "        else:\n",
        "          print(\"above 50\")"
      ],
      "metadata": {
        "colab": {
          "base_uri": "https://localhost:8080/"
        },
        "id": "h2fKxOlN7dPb",
        "outputId": "7b880877-e9ea-434d-e5fc-14efe22199c3"
      },
      "execution_count": 22,
      "outputs": [
        {
          "output_type": "stream",
          "name": "stdout",
          "text": [
            "Enter a number:\n",
            "52\n",
            "above 10\n",
            "above 20\n",
            "above 30\n",
            "above 40\n",
            "above 50\n"
          ]
        }
      ]
    },
    {
      "cell_type": "markdown",
      "source": [
        "#Example 1"
      ],
      "metadata": {
        "id": "5CNHEzHD7t97"
      }
    },
    {
      "cell_type": "code",
      "source": [
        "print(\"Enter your age\")\n",
        "x = int(input())\n",
        "if x>=18:\n",
        "  print(\"Qualified to vote\")\n",
        "else:\n",
        "  print(\"Not Qualified to vote\")"
      ],
      "metadata": {
        "id": "UBB0MilR7xKx",
        "colab": {
          "base_uri": "https://localhost:8080/"
        },
        "outputId": "25a9885f-7257-4827-d6f1-14ee8a8c6f9e"
      },
      "execution_count": 30,
      "outputs": [
        {
          "output_type": "stream",
          "name": "stdout",
          "text": [
            "Enter your age\n",
            "18\n",
            "Qualified to vote\n"
          ]
        }
      ]
    },
    {
      "cell_type": "markdown",
      "source": [
        "#Example 2"
      ],
      "metadata": {
        "id": "pVXgCLVm7xch"
      }
    },
    {
      "cell_type": "code",
      "source": [
        "print(\"Enter a number\")\n",
        "x = int(input())\n",
        "if x<= -1:\n",
        "  print (\"negative\")\n",
        "elif x>=0:\n",
        "  print (\"positive\")\n",
        "\n"
      ],
      "metadata": {
        "id": "z-m-2XZx7zip",
        "colab": {
          "base_uri": "https://localhost:8080/"
        },
        "outputId": "b05c7c6b-c760-4f1f-990c-dc1873189c06"
      },
      "execution_count": 39,
      "outputs": [
        {
          "output_type": "stream",
          "name": "stdout",
          "text": [
            "Enter a number\n",
            "2\n",
            "positive\n"
          ]
        }
      ]
    },
    {
      "cell_type": "markdown",
      "source": [
        "#Example 3"
      ],
      "metadata": {
        "id": "aEgxEW6O7z_L"
      }
    },
    {
      "cell_type": "code",
      "source": [
        "print (\"Enter grade\")\n",
        "x = int(input())\n",
        "if x>=75:\n",
        "  print(\"Passed\")\n",
        "  if x == 74:\n",
        "    print (\"Remedial\")\n",
        "  elif x < 74:\n",
        "    print(\"Failed\")\n",
        "else:\n",
        "  print (\"Not Accepted\")\n"
      ],
      "metadata": {
        "id": "eKcudtWl72pL",
        "colab": {
          "base_uri": "https://localhost:8080/"
        },
        "outputId": "834bf267-73d1-4230-b87b-802573efe010"
      },
      "execution_count": 5,
      "outputs": [
        {
          "output_type": "stream",
          "name": "stdout",
          "text": [
            "Enter grade\n",
            "41\n",
            "Not Accepted\n"
          ]
        }
      ]
    }
  ]
}